{
 "cells": [
  {
   "cell_type": "code",
   "execution_count": 1,
   "id": "4dd84e0f",
   "metadata": {},
   "outputs": [
    {
     "name": "stdout",
     "output_type": "stream",
     "text": [
      "Mean Score: 85.0\n",
      "Varience : 0.0\n",
      "\n",
      "Additional Check:\n",
      "Did all learners scored the same? : True\n"
     ]
    }
   ],
   "source": [
    "''' \n",
    "1. A statistics test was conducted for 10 learners in a class. The mean of their score is 85 and the\n",
    "variance of the score is zero. What can you interpret about the score obtained by all learners? \n",
    "'''\n",
    "\n",
    "# Given data\n",
    "mean_score = 85\n",
    "variance = 0\n",
    "number_of_learners = 10\n",
    "\n",
    "import numpy as np\n",
    "\n",
    "scores = [85,85,85,85,85,85,85,85,85,85] # Considering all learner got 85 score as mean is 85 & varience is 0.\n",
    "\n",
    "# Calculating the mean score\n",
    "mean_score = np.mean(scores)\n",
    "\n",
    "# Calculating the Varience\n",
    "var_score = np.var(scores)\n",
    "\n",
    "print(\"Mean Score:\", mean_score)\n",
    "print(\"Varience :\", var_score)\n",
    "\n",
    "'''\n",
    "Interpretation:\n",
    "Mean (Average):\n",
    "   The mean score of 85.0 indicates that on average, each learner scored 85.0.\n",
    "   This is calculated by summing up all the scores and dividing by the number of learners.\n",
    "\n",
    "Variance:\n",
    "   Variance shows how spread out scores are from the average(mean).\n",
    "   If variance is zero, all scores are the same.\n",
    "   In this case, every student got exactly 85.\n",
    "   No student got a score different from 85, showing everyone performed equally.\n",
    "'''\n",
    "\n",
    "# Check if all learners scored the same\n",
    "all_same_score = variance == 0\n",
    "print(\"\")\n",
    "print(\"Additional Check:\")\n",
    "print(\"Did all learners scored the same? :\", all_same_score)"
   ]
  },
  {
   "cell_type": "code",
   "execution_count": 2,
   "id": "b358911d",
   "metadata": {},
   "outputs": [
    {
     "name": "stdout",
     "output_type": "stream",
     "text": [
      "The distribution is positively skewed.\n",
      "There are more bigger houses in the residential locality.\n"
     ]
    }
   ],
   "source": [
    "'''\n",
    "2. In a residential locality, the mean size of the house is 2224 square feet and the median value of\n",
    "the house is 1500 square feet. What can you interpret about the skewness in the distribution of\n",
    "house size?\n",
    "Are there more bigger or smaller houses in the residential locality?\n",
    "'''\n",
    "# Mean and median values\n",
    "mean_size = 2224\n",
    "median_size = 1500\n",
    "''' \n",
    "Interpretation of skewness in the distribution of house size:\n",
    "Skewness provides insights into whether there is a tendency for houses in the \n",
    "locality to be larger or smaller relative to the average.\n",
    "    Positively skewed distribution:\n",
    "        Indicates that there are more smaller houses and fewer larger houses.\n",
    "        The mean house size is greater than the median house size.\n",
    "    Negatively skewed distribution:\n",
    "        Indicates that there are more larger houses and fewer smaller houses.\n",
    "        The mean house size is less than the median house size.\n",
    "    Symmetric distribution:\n",
    "        Indicates an even spread of house sizes on both sides of the median.\n",
    "        The mean and median house sizes are approximately equal.\n",
    "'''\n",
    "# Comparing mean and median to determine skewness\n",
    "if mean_size > median_size:\n",
    "    print(\"The distribution is positively skewed.\")\n",
    "    print(\"There are more bigger houses in the residential locality.\")\n",
    "elif mean_size < median_size:\n",
    "    print(\"The distribution is negatively skewed.\")\n",
    "    print(\"There are more smaller houses in the residential locality.\")\n",
    "else:\n",
    "    print(\"The distribution is symmetric.\")\n",
    "    print(\"The sizes of houses are evenly distributed.\")"
   ]
  },
  {
   "cell_type": "code",
   "execution_count": 3,
   "id": "bab4cf3e",
   "metadata": {},
   "outputs": [
    {
     "name": "stdout",
     "output_type": "stream",
     "text": [
      "Coefficient of Variation for Group I: 25.0 %\n",
      "Coefficient of Variation for Group II 25.0 %\n"
     ]
    }
   ],
   "source": [
    "'''\n",
    "3. The following table shows the mean and variance of the expenditure for two groups of people.\n",
    "You want to compare the variability in expenditure for both groups with respect to their mean.\n",
    "Which statistical measure would you use to evaluate the variability in expenditure? Please\n",
    "provide an explanation for your answer.\n",
    "'''\n",
    "# Given data\n",
    "mean_group1 = 500000  # Mean expenditure for Group I\n",
    "mean_group2 = 40000   # Mean expenditure for Group II\n",
    "std_dev_group1 = 125000  # Standard deviation of expenditure for Group I\n",
    "std_dev_group2 = 10000   # Standard deviation of expenditure for Group II\n",
    "\n",
    "# Calculate coefficient of variation (CV) for both groups\n",
    "cv_group1 = (std_dev_group1 / mean_group1) * 100\n",
    "cv_group2 = (std_dev_group2 / mean_group2) * 100\n",
    "\n",
    "print(\"Coefficient of Variation for Group I:\",(cv_group1),\"%\")\n",
    "print(\"Coefficient of Variation for Group II\",(cv_group2),\"%\")"
   ]
  },
  {
   "cell_type": "code",
   "execution_count": 4,
   "id": "3a280fc7",
   "metadata": {},
   "outputs": [
    {
     "name": "stdout",
     "output_type": "stream",
     "text": [
      "a. Class interval with the highest frequency: 35 - 45\n",
      "b. Age affected the least: 55 - 65\n",
      "c. Number of patients of age 45 years and above: 19\n",
      "d. Modal class interval: 35 - 45\n",
      "e. Median class interval of age: 35 - 45\n"
     ]
    }
   ],
   "source": [
    "'''\n",
    "Q4: During the survey, the ages of 80 patients infected by COVID and admitted to one of the city\n",
    "hospitals were recorded and the collected data is represented in the less than cumulative\n",
    "frequency distribution table.\n",
    "Age (in yrs.) No. of Patients\n",
    "5 - 15 6\n",
    "15 - 25 11\n",
    "25 - 35 21\n",
    "35 - 45 23\n",
    "45 - 55 14\n",
    "55 - 65 5\n",
    "'''\n",
    "import numpy as np\n",
    "\n",
    "# Given data (less than cumulative frequency distribution)\n",
    "age_intervals = [\"5 - 15\", \"15 - 25\", \"25 - 35\", \"35 - 45\", \"45 - 55\", \"55 - 65\"]\n",
    "no_of_patients = np.array([6, 11, 21, 23, 14, 5])\n",
    "\n",
    "# a. Which class interval has the highest frequency?\n",
    "max_frequency_index = np.argmax(no_of_patients)\n",
    "class_interval_highest_frequency = age_intervals[max_frequency_index]\n",
    "print(\"a. Class interval with the highest frequency:\", class_interval_highest_frequency)\n",
    "\n",
    "# b. Which age was affected the least?\n",
    "min_frequency_index = np.argmin(no_of_patients)\n",
    "age_affected_least = age_intervals[min_frequency_index]\n",
    "print(\"b. Age affected the least:\", age_affected_least)\n",
    "\n",
    "# c. How many patients of age 45 years and above were admitted?\n",
    "age_starts = [int(interval.split()[0]) for interval in age_intervals]\n",
    "patients_45_above = np.sum(no_of_patients[np.array(age_starts) >= 45])\n",
    "print(\"c. Number of patients of age 45 years and above:\", patients_45_above)\n",
    "\n",
    "# d. Which is the modal class interval in the above dataset?\n",
    "modal_class_interval_index = np.argmax(no_of_patients)\n",
    "modal_class_interval = age_intervals[modal_class_interval_index]\n",
    "print(\"d. Modal class interval:\", modal_class_interval)\n",
    "\n",
    "# e. What is the median class interval of age?\n",
    "median_class_interval_index = np.where(np.cumsum(no_of_patients) >= np.sum(no_of_patients) / 2)[0][0]\n",
    "median_class_interval = age_intervals[median_class_interval_index]\n",
    "print(\"e. Median class interval of age:\", median_class_interval)"
   ]
  },
  {
   "cell_type": "code",
   "execution_count": 5,
   "id": "6783b194",
   "metadata": {},
   "outputs": [
    {
     "name": "stdout",
     "output_type": "stream",
     "text": [
      "Average return on investment: 4.5 %\n"
     ]
    }
   ],
   "source": [
    "'''\n",
    "5. Assume you are the trader and you have invested over the years, and you are worried about the\n",
    "average return on investment. What average method would you use to compute the average\n",
    "return for the data given below?\n",
    "Year Return Asset Price\n",
    "2015 36% 5000\n",
    "2016 23% 6400\n",
    "2017 -48% 7890\n",
    "2018 -30% 9023\n",
    "2019 15% 4567\n",
    "2020 31% 3890\n",
    "'''\n",
    "import numpy as np\n",
    "\n",
    "returns = np.array([36, 23, -48, -30, 15, 31])  # Returns in percentage\n",
    "asset_prices = np.array([5000, 6400, 7890, 9023, 4567, 3890])  # Asset prices\n",
    "\n",
    "# Calculate average return\n",
    "average_return = np.mean(returns)\n",
    "\n",
    "print(\"Average return on investment:\", average_return, \"%\")"
   ]
  },
  {
   "cell_type": "code",
   "execution_count": 6,
   "id": "34897391",
   "metadata": {},
   "outputs": [
    {
     "name": "stdout",
     "output_type": "stream",
     "text": [
      "Average height of sampled males: 174.2275808504753\n"
     ]
    }
   ],
   "source": [
    "'''\n",
    "6. Suppose you have been told to measure the average height of all the males on the earth. What\n",
    "would be your strategy for the same? Would the average height be a parameter or a statistic?\n",
    "Justify your answer.\n",
    "'''\n",
    "import numpy as np\n",
    "\n",
    "# Generate sample data (heights in centimeters)\n",
    "sample_heights = np.random.normal(loc=174, scale=10, size=1000)  # Assuming a mean height of 175cm with some variability\n",
    "\n",
    "# Calculate the average height\n",
    "average_height = np.mean(sample_heights)\n",
    "print(\"Average height of sampled males:\", average_height)\n"
   ]
  },
  {
   "cell_type": "code",
   "execution_count": 7,
   "id": "85e96459",
   "metadata": {},
   "outputs": [
    {
     "name": "stdout",
     "output_type": "stream",
     "text": [
      "Average Return on Investment: 4.50%\n"
     ]
    }
   ],
   "source": [
    "# Define investment data as a list of dictionaries\n",
    "investment_data = [\n",
    "    {\"Year\": 2015, \"Return\": 36, \"Asset Price\": 5000},\n",
    "    {\"Year\": 2016, \"Return\": 23, \"Asset Price\": 6400},\n",
    "    {\"Year\": 2017, \"Return\": -48, \"Asset Price\": 7890},\n",
    "    {\"Year\": 2018, \"Return\": -30, \"Asset Price\": 9023},\n",
    "    {\"Year\": 2019, \"Return\": 15, \"Asset Price\": 4567},\n",
    "    {\"Year\": 2020, \"Return\": 31, \"Asset Price\": 3890},\n",
    "]\n",
    "\n",
    "# Calculate the average return\n",
    "total_return = sum(data[\"Return\"] for data in investment_data)\n",
    "average_return = total_return / len(investment_data)\n",
    "\n",
    "# Print the average return\n",
    "print(f\"Average Return on Investment: {average_return:.2f}%\")"
   ]
  },
  {
   "cell_type": "code",
   "execution_count": 8,
   "id": "abbb88db",
   "metadata": {},
   "outputs": [
    {
     "name": "stdout",
     "output_type": "stream",
     "text": [
      "Average Return on Investment (Simple Mean): 4.500000000000001 %\n"
     ]
    }
   ],
   "source": [
    "# Data for investment year, return, and asset value\n",
    "data = {\n",
    "    \"Year\": [2015, 2016, 2017, 2018, 2019, 2020],\n",
    "    \"Return\": [.36, .23, -.48, -.30, .15, .31],\n",
    "    \"Asset\": [5000, 6400, 7890, 9023, 4567, 3890]\n",
    "}\n",
    "\n",
    "# Calculate the average return (simple arithmetic mean)\n",
    "total_return = sum(data[\"Return\"])\n",
    "average_return = total_return / len(data[\"Year\"])\n",
    "\n",
    "print(\"Average Return on Investment (Simple Mean):\", 100*average_return, \"%\")"
   ]
  },
  {
   "cell_type": "code",
   "execution_count": 9,
   "id": "0ca65fa5",
   "metadata": {},
   "outputs": [
    {
     "name": "stdout",
     "output_type": "stream",
     "text": [
      "Original data: [ 4.5  6.2  7.3  9.1 10.4 11. ]\n",
      "Z-scores: [-1.55385602 -0.81667781 -0.33968015  0.44086148  1.00458598  1.26476653]\n",
      "Z-scores for the given dataset:\n",
      "X[0]: -1.553856019598407\n",
      "X[1]: -0.816677814951721\n",
      "X[2]: -0.3396801531215125\n",
      "X[3]: 0.44086147532791964\n",
      "X[4]: 1.004585984763621\n",
      "X[5]: 1.2647665275800983\n"
     ]
    }
   ],
   "source": [
    "'''\n",
    "7. Calculate the z score of the following numbers:\n",
    "X = [4.5,6.2,7.3,9.1,10.4,11]\n",
    "'''\n",
    "import numpy as np\n",
    "\n",
    "# Define your dataset\n",
    "X = np.array([4.5, 6.2, 7.3, 9.1, 10.4, 11])\n",
    "\n",
    "# Calculate mean and standard deviation\n",
    "mean = np.mean(X)\n",
    "std_dev = np.std(X)\n",
    "\n",
    "# Calculate Z-scores\n",
    "z_scores = (X - mean) / std_dev\n",
    "\n",
    "print(\"Original data:\", X)\n",
    "print(\"Z-scores:\", z_scores)\n",
    "# Calculate mean and standard deviation\n",
    "mean_X = np.mean(X)\n",
    "std_dev_X = np.std(X)\n",
    "\n",
    "# Calculate z-scores\n",
    "z_scores = (X - mean_X) / std_dev_X\n",
    "\n",
    "print(\"Z-scores for the given dataset:\")\n",
    "for i, z_score in enumerate(z_scores):\n",
    "    print(f\"X[{i}]: {z_score}\")"
   ]
  },
  {
   "cell_type": "code",
   "execution_count": 10,
   "id": "2fefe215",
   "metadata": {},
   "outputs": [
    {
     "data": {
      "text/html": [
       "<div>\n",
       "<style scoped>\n",
       "    .dataframe tbody tr th:only-of-type {\n",
       "        vertical-align: middle;\n",
       "    }\n",
       "\n",
       "    .dataframe tbody tr th {\n",
       "        vertical-align: top;\n",
       "    }\n",
       "\n",
       "    .dataframe thead th {\n",
       "        text-align: right;\n",
       "    }\n",
       "</style>\n",
       "<table border=\"1\" class=\"dataframe\">\n",
       "  <thead>\n",
       "    <tr style=\"text-align: right;\">\n",
       "      <th></th>\n",
       "      <th>ID</th>\n",
       "      <th>Age</th>\n",
       "      <th>Experience</th>\n",
       "      <th>Income</th>\n",
       "      <th>ZIP Code</th>\n",
       "      <th>Family</th>\n",
       "      <th>CCAvg</th>\n",
       "      <th>Education</th>\n",
       "      <th>Mortgage</th>\n",
       "      <th>Personal Loan</th>\n",
       "      <th>Securities Account</th>\n",
       "      <th>CD Account</th>\n",
       "      <th>Online</th>\n",
       "      <th>CreditCard</th>\n",
       "    </tr>\n",
       "  </thead>\n",
       "  <tbody>\n",
       "    <tr>\n",
       "      <th>count</th>\n",
       "      <td>5000.000000</td>\n",
       "      <td>5000.000000</td>\n",
       "      <td>5000.000000</td>\n",
       "      <td>5000.000000</td>\n",
       "      <td>5000.000000</td>\n",
       "      <td>5000.000000</td>\n",
       "      <td>5000.000000</td>\n",
       "      <td>5000.000000</td>\n",
       "      <td>5000.000000</td>\n",
       "      <td>5000.000000</td>\n",
       "      <td>5000.000000</td>\n",
       "      <td>5000.00000</td>\n",
       "      <td>5000.000000</td>\n",
       "      <td>5000.000000</td>\n",
       "    </tr>\n",
       "    <tr>\n",
       "      <th>mean</th>\n",
       "      <td>2500.500000</td>\n",
       "      <td>45.338400</td>\n",
       "      <td>20.104600</td>\n",
       "      <td>73.774200</td>\n",
       "      <td>93152.503000</td>\n",
       "      <td>2.396400</td>\n",
       "      <td>1.937938</td>\n",
       "      <td>1.881000</td>\n",
       "      <td>56.498800</td>\n",
       "      <td>0.096000</td>\n",
       "      <td>0.104400</td>\n",
       "      <td>0.06040</td>\n",
       "      <td>0.596800</td>\n",
       "      <td>0.294000</td>\n",
       "    </tr>\n",
       "    <tr>\n",
       "      <th>std</th>\n",
       "      <td>1443.520003</td>\n",
       "      <td>11.463166</td>\n",
       "      <td>11.467954</td>\n",
       "      <td>46.033729</td>\n",
       "      <td>2121.852197</td>\n",
       "      <td>1.147663</td>\n",
       "      <td>1.747659</td>\n",
       "      <td>0.839869</td>\n",
       "      <td>101.713802</td>\n",
       "      <td>0.294621</td>\n",
       "      <td>0.305809</td>\n",
       "      <td>0.23825</td>\n",
       "      <td>0.490589</td>\n",
       "      <td>0.455637</td>\n",
       "    </tr>\n",
       "    <tr>\n",
       "      <th>min</th>\n",
       "      <td>1.000000</td>\n",
       "      <td>23.000000</td>\n",
       "      <td>-3.000000</td>\n",
       "      <td>8.000000</td>\n",
       "      <td>9307.000000</td>\n",
       "      <td>1.000000</td>\n",
       "      <td>0.000000</td>\n",
       "      <td>1.000000</td>\n",
       "      <td>0.000000</td>\n",
       "      <td>0.000000</td>\n",
       "      <td>0.000000</td>\n",
       "      <td>0.00000</td>\n",
       "      <td>0.000000</td>\n",
       "      <td>0.000000</td>\n",
       "    </tr>\n",
       "    <tr>\n",
       "      <th>25%</th>\n",
       "      <td>1250.750000</td>\n",
       "      <td>35.000000</td>\n",
       "      <td>10.000000</td>\n",
       "      <td>39.000000</td>\n",
       "      <td>91911.000000</td>\n",
       "      <td>1.000000</td>\n",
       "      <td>0.700000</td>\n",
       "      <td>1.000000</td>\n",
       "      <td>0.000000</td>\n",
       "      <td>0.000000</td>\n",
       "      <td>0.000000</td>\n",
       "      <td>0.00000</td>\n",
       "      <td>0.000000</td>\n",
       "      <td>0.000000</td>\n",
       "    </tr>\n",
       "    <tr>\n",
       "      <th>50%</th>\n",
       "      <td>2500.500000</td>\n",
       "      <td>45.000000</td>\n",
       "      <td>20.000000</td>\n",
       "      <td>64.000000</td>\n",
       "      <td>93437.000000</td>\n",
       "      <td>2.000000</td>\n",
       "      <td>1.500000</td>\n",
       "      <td>2.000000</td>\n",
       "      <td>0.000000</td>\n",
       "      <td>0.000000</td>\n",
       "      <td>0.000000</td>\n",
       "      <td>0.00000</td>\n",
       "      <td>1.000000</td>\n",
       "      <td>0.000000</td>\n",
       "    </tr>\n",
       "    <tr>\n",
       "      <th>75%</th>\n",
       "      <td>3750.250000</td>\n",
       "      <td>55.000000</td>\n",
       "      <td>30.000000</td>\n",
       "      <td>98.000000</td>\n",
       "      <td>94608.000000</td>\n",
       "      <td>3.000000</td>\n",
       "      <td>2.500000</td>\n",
       "      <td>3.000000</td>\n",
       "      <td>101.000000</td>\n",
       "      <td>0.000000</td>\n",
       "      <td>0.000000</td>\n",
       "      <td>0.00000</td>\n",
       "      <td>1.000000</td>\n",
       "      <td>1.000000</td>\n",
       "    </tr>\n",
       "    <tr>\n",
       "      <th>max</th>\n",
       "      <td>5000.000000</td>\n",
       "      <td>67.000000</td>\n",
       "      <td>43.000000</td>\n",
       "      <td>224.000000</td>\n",
       "      <td>96651.000000</td>\n",
       "      <td>4.000000</td>\n",
       "      <td>10.000000</td>\n",
       "      <td>3.000000</td>\n",
       "      <td>635.000000</td>\n",
       "      <td>1.000000</td>\n",
       "      <td>1.000000</td>\n",
       "      <td>1.00000</td>\n",
       "      <td>1.000000</td>\n",
       "      <td>1.000000</td>\n",
       "    </tr>\n",
       "  </tbody>\n",
       "</table>\n",
       "</div>"
      ],
      "text/plain": [
       "                ID          Age   Experience       Income      ZIP Code  \\\n",
       "count  5000.000000  5000.000000  5000.000000  5000.000000   5000.000000   \n",
       "mean   2500.500000    45.338400    20.104600    73.774200  93152.503000   \n",
       "std    1443.520003    11.463166    11.467954    46.033729   2121.852197   \n",
       "min       1.000000    23.000000    -3.000000     8.000000   9307.000000   \n",
       "25%    1250.750000    35.000000    10.000000    39.000000  91911.000000   \n",
       "50%    2500.500000    45.000000    20.000000    64.000000  93437.000000   \n",
       "75%    3750.250000    55.000000    30.000000    98.000000  94608.000000   \n",
       "max    5000.000000    67.000000    43.000000   224.000000  96651.000000   \n",
       "\n",
       "            Family        CCAvg    Education     Mortgage  Personal Loan  \\\n",
       "count  5000.000000  5000.000000  5000.000000  5000.000000    5000.000000   \n",
       "mean      2.396400     1.937938     1.881000    56.498800       0.096000   \n",
       "std       1.147663     1.747659     0.839869   101.713802       0.294621   \n",
       "min       1.000000     0.000000     1.000000     0.000000       0.000000   \n",
       "25%       1.000000     0.700000     1.000000     0.000000       0.000000   \n",
       "50%       2.000000     1.500000     2.000000     0.000000       0.000000   \n",
       "75%       3.000000     2.500000     3.000000   101.000000       0.000000   \n",
       "max       4.000000    10.000000     3.000000   635.000000       1.000000   \n",
       "\n",
       "       Securities Account  CD Account       Online   CreditCard  \n",
       "count         5000.000000  5000.00000  5000.000000  5000.000000  \n",
       "mean             0.104400     0.06040     0.596800     0.294000  \n",
       "std              0.305809     0.23825     0.490589     0.455637  \n",
       "min              0.000000     0.00000     0.000000     0.000000  \n",
       "25%              0.000000     0.00000     0.000000     0.000000  \n",
       "50%              0.000000     0.00000     1.000000     0.000000  \n",
       "75%              0.000000     0.00000     1.000000     1.000000  \n",
       "max              1.000000     1.00000     1.000000     1.000000  "
      ]
     },
     "execution_count": 10,
     "metadata": {},
     "output_type": "execute_result"
    }
   ],
   "source": [
    "'''\n",
    "8.  are expected to perform statistical analysis for the Bank Personal Loan Modelling dataset. Below is\n",
    "the data dictionary. \n",
    "'''\n",
    "import pandas as pd\n",
    "import numpy as np\n",
    "\n",
    "# Specify the path to your CSV file\n",
    "file_path = r\"C:\\Users\\pc\\Desktop\\Bank_Personal_Loan_Modelling.csv.csv\"\n",
    "\n",
    "# Read the CSV file into a pandas DataFrame\n",
    "df = pd.read_csv(file_path)\n",
    "\n",
    "# Convert DataFrame to numpy array\n",
    "data = df.to_numpy()\n",
    "df.describe()"
   ]
  },
  {
   "cell_type": "code",
   "execution_count": 11,
   "id": "5628d4d1",
   "metadata": {},
   "outputs": [
    {
     "name": "stdout",
     "output_type": "stream",
     "text": [
      "                            Mean   Median  Standard Deviation    Range\n",
      "ID                   2500.500000   2500.5         1443.520003   4999.0\n",
      "Age                    45.338400     45.0           11.463166     44.0\n",
      "Experience             20.104600     20.0           11.467954     46.0\n",
      "Income                 73.774200     64.0           46.033729    216.0\n",
      "ZIP Code            93152.503000  93437.0         2121.852197  87344.0\n",
      "Family                  2.396400      2.0            1.147663      3.0\n",
      "CCAvg                   1.937938      1.5            1.747659     10.0\n",
      "Education               1.881000      2.0            0.839869      2.0\n",
      "Mortgage               56.498800      0.0          101.713802    635.0\n",
      "Personal Loan           0.096000      0.0            0.294621      1.0\n",
      "Securities Account      0.104400      0.0            0.305809      1.0\n",
      "CD Account              0.060400      0.0            0.238250      1.0\n",
      "Online                  0.596800      1.0            0.490589      1.0\n",
      "CreditCard              0.294000      0.0            0.455637      1.0\n"
     ]
    }
   ],
   "source": [
    "'''\n",
    "9. Evaluate the measures of central tendency and measures of dispersion for all the quantitative\n",
    "variables in the dataset.\n",
    "'''\n",
    "\n",
    "import pandas as pd\n",
    "import numpy as np\n",
    "\n",
    "# Specify the path to your CSV file\n",
    "file_path = r\"C:\\Users\\pc\\Desktop\\Bank_Personal_Loan_Modelling.csv.csv\"\n",
    "\n",
    "# Read the CSV file into a pandas DataFrame\n",
    "df = pd.read_csv(file_path)\n",
    "\n",
    "# Selecting only the quantitative variables\n",
    "quantitative_variables = df.select_dtypes(include=[np.number])\n",
    "\n",
    "# Calculate measures of central tendency\n",
    "means = quantitative_variables.mean()\n",
    "medians = quantitative_variables.median()\n",
    "\n",
    "# Calculate measures of dispersion\n",
    "std_deviations = quantitative_variables.std()\n",
    "ranges = quantitative_variables.max() - quantitative_variables.min()\n",
    "\n",
    "# Create a DataFrame to display the results\n",
    "summary_stats = pd.DataFrame({\n",
    "    'Mean': means,\n",
    "    'Median': medians,\n",
    "    'Standard Deviation': std_deviations,\n",
    "    'Range': ranges\n",
    "})\n",
    "\n",
    "# Display the summary statistics\n",
    "print(summary_stats)"
   ]
  },
  {
   "cell_type": "code",
   "execution_count": 12,
   "id": "11b58ddd",
   "metadata": {},
   "outputs": [
    {
     "data": {
      "image/png": "[encoded data removed]",
      "text/plain": [
       "<Figure size 640x480 with 1 Axes>"
      ]
     },
     "metadata": {},
     "output_type": "display_data"
    },
    {
     "name": "stdout",
     "output_type": "stream",
     "text": [
      "Pearson Correlation Coefficient: 0.994214856968332\n"
     ]
    }
   ],
   "source": [
    "'''\n",
    "10. What statistical method will you use to examine the presence of a linear relationship between\n",
    "age and experience variables? Also, create a plot to illustrate this relationship.\n",
    "'''\n",
    "import pandas as pd\n",
    "import numpy as np\n",
    "import matplotlib.pyplot as plt\n",
    "\n",
    "# Specify the path to your CSV file\n",
    "file_path = r\"C:\\Users\\pc\\Desktop\\Bank_Personal_Loan_Modelling.csv.csv\"\n",
    "\n",
    "# Read the CSV file into a pandas DataFrame\n",
    "df = pd.read_csv(file_path)\n",
    "\n",
    "# Extracting 'age' and 'experience' variables\n",
    "age = df['Age']\n",
    "experience = df['Experience']\n",
    "\n",
    "# Calculating Pearson correlation coefficient\n",
    "correlation_coefficient = np.corrcoef(age, experience)[0, 1]\n",
    "\n",
    "# Plotting the relationship between 'age' and 'experience'\n",
    "plt.scatter(age, experience, alpha=0.5)\n",
    "plt.title('Relationship between Age and Experience')\n",
    "plt.xlabel('Age')\n",
    "plt.ylabel('Experience')\n",
    "plt.grid(True)\n",
    "plt.show()\n",
    "\n",
    "# Displaying the Pearson correlation coefficient\n",
    "print(\"Pearson Correlation Coefficient:\", correlation_coefficient)"
   ]
  },
  {
   "cell_type": "code",
   "execution_count": 13,
   "id": "4d60d73f",
   "metadata": {},
   "outputs": [
    {
     "name": "stdout",
     "output_type": "stream",
     "text": [
      "Most frequent family size observed in the dataset: 1\n"
     ]
    }
   ],
   "source": [
    "'''\n",
    "11. What is the most frequent family size observed in this dataset?\n",
    "'''\n",
    "import pandas as pd\n",
    "\n",
    "# Specify the path to your CSV file\n",
    "file_path = r\"C:\\Users\\pc\\Desktop\\Bank_Personal_Loan_Modelling.csv.csv\"\n",
    "\n",
    "# Read the CSV file into a pandas DataFrame\n",
    "df = pd.read_csv(file_path)\n",
    "\n",
    "# Assuming the column representing family size is named 'Family'\n",
    "# Replace 'Family' with the actual column name if it's different\n",
    "most_frequent_Family = df['Family'].value_counts().idxmax()\n",
    "\n",
    "print(\"Most frequent family size observed in the dataset:\", most_frequent_Family)\n"
   ]
  },
  {
   "cell_type": "code",
   "execution_count": 14,
   "id": "adf52261",
   "metadata": {},
   "outputs": [
    {
     "name": "stdout",
     "output_type": "stream",
     "text": [
      "Coefficient of Variation for Income: 62.39190085146645 %\n"
     ]
    }
   ],
   "source": [
    "'''\n",
    "12. What is the percentage of variation you can observe in the ‘Income’ variable?\n",
    "'''\n",
    "import numpy as np\n",
    "\n",
    "# Specify the path to your CSV file\n",
    "file_path = r\"C:\\Users\\pc\\Desktop\\Bank_Personal_Loan_Modelling.csv.csv\"\n",
    "\n",
    "# Read the CSV file into a pandas DataFrame\n",
    "df = pd.read_csv(file_path)\n",
    "\n",
    "# Assuming 'Income' is the column representing income\n",
    "# Replace 'Income' with the actual column name if it's different\n",
    "income_std = np.std(df['Income'])\n",
    "income_mean = np.mean(df['Income'])\n",
    "\n",
    "# Calculate coefficient of variation\n",
    "coefficient_of_variation = (income_std / income_mean) * 100\n",
    "\n",
    "print(\"Coefficient of Variation for Income:\", coefficient_of_variation, \"%\")\n"
   ]
  },
  {
   "cell_type": "code",
   "execution_count": 18,
   "id": "3fed47f0",
   "metadata": {},
   "outputs": [
    {
     "name": "stdout",
     "output_type": "stream",
     "text": [
      "Imputed value for zero Mortgage: 153.0\n"
     ]
    }
   ],
   "source": [
    "'''\n",
    "13. The ‘Mortgage’ variable has a lot of zeroes. Impute with some business logical value that you\n",
    "feel fit for the data.\n",
    "'''\n",
    "import numpy as np\n",
    "import pandas as pd\n",
    "\n",
    "# Specify the path to your CSV file\n",
    "file_path = r\"C:\\Users\\pc\\Desktop\\Bank_Personal_Loan_Modelling.csv.csv\"\n",
    "\n",
    "# Read the CSV file into a pandas DataFrame\n",
    "df = pd.read_csv(file_path)\n",
    "\n",
    "# Calculate the median of non-zero 'Mortgage' values\n",
    "non_zero_mortgage_median = np.median(df[df['Mortgage'] > 0]['Mortgage'])\n",
    "\n",
    "# Impute zero values with the median of non-zero values\n",
    "df.loc[df['Mortgage'] == 0, 'Mortgage'] = non_zero_mortgage_median\n",
    "print(\"Imputed value for zero Mortgage:\", non_zero_mortgage_median)"
   ]
  },
  {
   "cell_type": "code",
   "execution_count": 16,
   "id": "de41f4eb",
   "metadata": {},
   "outputs": [
    {
     "data": {
      "image/png": "[encoded data removed]",
      "text/plain": [
       "<Figure size 800x600 with 1 Axes>"
      ]
     },
     "metadata": {},
     "output_type": "display_data"
    }
   ],
   "source": [
    "'''\n",
    "14. Plot a density curve of the CCAvg variable for the customers who possess credit cards and write\n",
    "an interpretation about its distribution.\n",
    "'''\n",
    "import matplotlib.pyplot as plt\n",
    "\n",
    "# Filter DataFrame to include only customers with positive 'CreditCard' values\n",
    "ccavg_data = df[df['CreditCard'] == 1]['CCAvg']\n",
    "\n",
    "# Plot density curve\n",
    "plt.figure(figsize=(8, 6))\n",
    "plt.hist(ccavg_data, bins=30, density=True, alpha=0.6, color='blue')\n",
    "plt.title('Density Curve of CCAvg for Customers with Credit Cards')\n",
    "plt.xlabel('CCAvg')\n",
    "plt.ylabel('Density')\n",
    "plt.grid(True)\n",
    "plt.show()"
   ]
  },
  {
   "cell_type": "code",
   "execution_count": 20,
   "id": "69869d16",
   "metadata": {},
   "outputs": [
    {
     "data": {
      "image/png": "[encoded data removed]",
      "text/plain": [
       "<Figure size 1000x600 with 1 Axes>"
      ]
     },
     "metadata": {},
     "output_type": "display_data"
    }
   ],
   "source": [
    "'''\n",
    "15. Do you see any outliers in the dataset? If yes, what plot you would think will be suitable to\n",
    "showcase to the stakeholders?\n",
    "'''\n",
    "import matplotlib.pyplot as plt\n",
    "import pandas as pd\n",
    "\n",
    "# Specify the path to your CSV file\n",
    "file_path = r\"C:\\Users\\pc\\Desktop\\Bank_Personal_Loan_Modelling.csv.csv\"\n",
    "\n",
    "# Read the CSV file into a pandas DataFrame\n",
    "df = pd.read_csv(file_path)\n",
    "\n",
    "# Plot box plots for numerical variables\n",
    "plt.figure(figsize=(10, 6))\n",
    "df.boxplot()\n",
    "plt.title('Boxplot of Numerical Variables')\n",
    "plt.xticks(rotation=45)\n",
    "plt.show()\n"
   ]
  },
  {
   "cell_type": "code",
   "execution_count": 21,
   "id": "e1d16bce",
   "metadata": {},
   "outputs": [
    {
     "name": "stdout",
     "output_type": "stream",
     "text": [
      "Decile values of the 'Income' variable:\n",
      "Decile 1: 22.0\n",
      "Decile 2: 33.0\n",
      "Decile 3: 42.0\n",
      "Decile 4: 52.0\n",
      "Decile 5: 64.0\n",
      "Decile 6: 78.0\n",
      "Decile 7: 88.29999999999973\n",
      "Decile 8: 113.0\n",
      "Decile 9: 145.0\n",
      "Decile 10: 224.0\n"
     ]
    }
   ],
   "source": [
    "'''\n",
    "16.Give us the decile values of the variable ‘Income’ in the dataset. \n",
    "'''\n",
    "# Specify the path to your CSV file\n",
    "file_path = r\"C:\\Users\\pc\\Desktop\\Bank_Personal_Loan_Modelling.csv.csv\"\n",
    "\n",
    "# Read the CSV file into a pandas DataFrame\n",
    "df = pd.read_csv(file_path)\n",
    "\n",
    "# Calculate decile values for the 'Income' variable\n",
    "deciles = np.percentile(df['Income'], np.arange(10, 101, 10))\n",
    "\n",
    "# Display the decile values\n",
    "print(\"Decile values of the 'Income' variable:\")\n",
    "for i, decile_value in enumerate(deciles, start=1):\n",
    "    print(f\"Decile {i}: {decile_value}\")"
   ]
  },
  {
   "cell_type": "code",
   "execution_count": 22,
   "id": "3112366f",
   "metadata": {},
   "outputs": [
    {
     "name": "stdout",
     "output_type": "stream",
     "text": [
      "Interquartile Range (IQR) of the quantitative and continuous variables:\n",
      "ID                    2499.5\n",
      "Age                     20.0\n",
      "Experience              20.0\n",
      "Income                  59.0\n",
      "ZIP Code              2697.0\n",
      "Family                   2.0\n",
      "CCAvg                    1.8\n",
      "Education                2.0\n",
      "Mortgage               101.0\n",
      "Personal Loan            0.0\n",
      "Securities Account       0.0\n",
      "CD Account               0.0\n",
      "Online                   1.0\n",
      "CreditCard               1.0\n",
      "dtype: float64\n"
     ]
    }
   ],
   "source": [
    "'''\n",
    "17. Give the IQR of all the variables which are quantitative and continuous.\n",
    "'''\n",
    "import pandas as pd\n",
    "# Specify the path to your CSV file\n",
    "file_path = r\"C:\\Users\\pc\\Desktop\\Bank_Personal_Loan_Modelling.csv.csv\"\n",
    "\n",
    "# Read the CSV file into a pandas DataFrame\n",
    "df = pd.read_csv(file_path)\n",
    "\n",
    "# Selecting only the quantitative and continuous variables\n",
    "quant_cont_variables = df.select_dtypes(include=[np.number])\n",
    "\n",
    "# Calculate the interquartile range (IQR) for each variable\n",
    "iqr_values = quant_cont_variables.quantile(0.75) - quant_cont_variables.quantile(0.25)\n",
    "\n",
    "# Display the IQR values\n",
    "print(\"Interquartile Range (IQR) of the quantitative and continuous variables:\")\n",
    "print(iqr_values)"
   ]
  },
  {
   "cell_type": "code",
   "execution_count": 23,
   "id": "96dd6c78",
   "metadata": {},
   "outputs": [
    {
     "name": "stdout",
     "output_type": "stream",
     "text": [
      "Correlation coefficient between Income and CCAvg: 0.6459836696249656\n",
      "There is a positive correlation between income and credit card spending.\n"
     ]
    }
   ],
   "source": [
    "'''\n",
    "18. Do the higher-income holders spend more on credit cards?\n",
    "'''\n",
    "import pandas as pd\n",
    "# Specify the path to your CSV file\n",
    "file_path = r\"C:\\Users\\pc\\Desktop\\Bank_Personal_Loan_Modelling.csv.csv\"\n",
    "\n",
    "# Read the CSV file into a pandas DataFrame\n",
    "df = pd.read_csv(file_path)\n",
    "\n",
    "# Calculate the correlation coefficient between 'Income' and 'CCAvg'\n",
    "correlation_coefficient = df['Income'].corr(df['CCAvg'])\n",
    "\n",
    "# Print the correlation coefficient\n",
    "print(\"Correlation coefficient between Income and CCAvg:\", correlation_coefficient)\n",
    "\n",
    "# Interpret the relationship\n",
    "if correlation_coefficient > 0:\n",
    "    print(\"There is a positive correlation between income and credit card spending.\")\n",
    "elif correlation_coefficient < 0:\n",
    "    print(\"There is a negative correlation between income and credit card spending.\")\n",
    "else:\n",
    "    print(\"There is no correlation between income and credit card spending.\")\n"
   ]
  },
  {
   "cell_type": "code",
   "execution_count": 24,
   "id": "ab5b7744",
   "metadata": {},
   "outputs": [
    {
     "name": "stdout",
     "output_type": "stream",
     "text": [
      "Number of customers using online banking: 2984\n",
      "Mean income for customers using online banking: 74.31166219839142\n",
      "Mean income for customers not using online banking: 72.97867063492063\n"
     ]
    }
   ],
   "source": [
    "'''\n",
    "19. How many customers use online banking? Do customers using bank internet facilities have\n",
    "higher income?\n",
    "'''\n",
    "# Count the number of customers using online banking\n",
    "num_online_customers = df['Online'].sum()\n",
    "\n",
    "# Calculate the mean income for customers using online banking\n",
    "mean_income_online = df[df['Online'] == 1]['Income'].mean()\n",
    "\n",
    "# Calculate the mean income for customers not using online banking\n",
    "mean_income_not_online = df[df['Online'] == 0]['Income'].mean()\n",
    "\n",
    "print(\"Number of customers using online banking:\", num_online_customers)\n",
    "print(\"Mean income for customers using online banking:\", mean_income_online)\n",
    "print(\"Mean income for customers not using online banking:\", mean_income_not_online)"
   ]
  },
  {
   "cell_type": "code",
   "execution_count": 25,
   "id": "9b993cb8",
   "metadata": {},
   "outputs": [
    {
     "name": "stdout",
     "output_type": "stream",
     "text": [
      "Number of observations outside the range of ±3σ: 2\n"
     ]
    }
   ],
   "source": [
    "'''\n",
    "20. Using the z-score of the income variable, find out the number of observations outside the +-3σ.\n",
    "'''\n",
    "# Calculate the mean and standard deviation of the 'Income' variable\n",
    "mean_income = df['Income'].mean()\n",
    "std_income = df['Income'].std()\n",
    "\n",
    "# Calculate z-scores for each observation\n",
    "z_scores = (df['Income'] - mean_income) / std_income\n",
    "\n",
    "# Count the number of observations outside the range of ±3 standard deviations\n",
    "num_outliers = ((z_scores < -3) | (z_scores > 3)).sum()\n",
    "\n",
    "print(\"Number of observations outside the range of ±3σ:\", num_outliers)"
   ]
  },
  {
   "cell_type": "code",
   "execution_count": null,
   "id": "1af6d507",
   "metadata": {},
   "outputs": [],
   "source": []
  }
 ],
 "metadata": {
  "kernelspec": {
   "display_name": "Python 3 (ipykernel)",
   "language": "python",
   "name": "python3"
  },
  "language_info": {
   "codemirror_mode": {
    "name": "ipython",
    "version": 3
   },
   "file_extension": ".py",
   "mimetype": "text/x-python",
   "name": "python",
   "nbconvert_exporter": "python",
   "pygments_lexer": "ipython3",
   "version": "3.11.5"
  }
 },
 "nbformat": 4,
 "nbformat_minor": 5
}
